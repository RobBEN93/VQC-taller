{
 "cells": [
  {
   "cell_type": "markdown",
   "metadata": {},
   "source": [
    "#### Clasificación variacional"
   ]
  },
  {
   "cell_type": "markdown",
   "metadata": {},
   "source": [
    "En aprendizaje automático básico, buscamos producir _modelos_, es decir, funciones toman una entrada de datos en forma de un vector $x\\in\\mathbb{R}^D$ llamado _vector de características_ y pueden devolver una predicción $y\\in\\mathbb{R}$, o estructuras más complejas como vectores, matrices, o tensores, dependiendo del tipo específico de tarea de aprendizaje. Estas funciones \"se entrenan\" ajustando parámetros de la función, usando un _conjunto de entrenamiento_ para aprender a realizar predicciones que sean efectivas no solo con los datos de entrenamiento sino también con nuevos datos no vistos anteriormente.\n",
    "\n",
    "En este caso consideramos una tarea de aprendizaje específica llamada _clasificación binaria_ donde nuestros modelos producen etiquetas en un conjunto $\\{a,b\\}$, por ejemplo, $\\{+1,-1\\}$, $\\{0,1\\}$, $\\{verdadero,falso\\}$, etcétera. En otras palabras, consideramos modelos de la forma $$f_{\\theta}: \\mathbb{R}^D \\rightarrow \\{a,b\\}, $$ donde $\\theta$ representa el parámetro a _optimizar_.\n",
    "\n",
    "Además, consideramos el caso de _aprendizaje supervisado_, donde cada elemento del conjunto de entrenamiento está formado por un par $(x_i, y_i)$, donde $x_i \\in \\mathbb{R}^D$ es un vector de características y $y_i$ es la etiqueta correspondiente que indica la clase a la que pertenece el ejemplo."
   ]
  },
  {
   "cell_type": "markdown",
   "metadata": {},
   "source": [
    "#### Ejemplo"
   ]
  },
  {
   "cell_type": "markdown",
   "metadata": {},
   "source": [
    "Supóngase que tenemos $N$ ejemplos en nuestro conjunto de entrenamiento con correspondientes etiquetas, $(x_1, y_1), \\dots, (x_N, y_N)$. Dados estos datos, buscamos estimar un modelo $f(\\cdot,\\theta)$ parametrizado por $\\theta$ para el cual esperamos encontrar un buen parámetro $\\theta^*$ que ajuste bien los datos con las etiquetas, es decir, $$f(x_n,\\theta^*)\\approx y_n, \\hspace{12pt} \\text{para todo} \\hspace{4pt} i = 1, \\dots, N$$."
   ]
  },
  {
   "cell_type": "markdown",
   "metadata": {},
   "source": [
    "##### Función de pérdida"
   ]
  },
  {
   "cell_type": "markdown",
   "metadata": {},
   "source": [
    "Una manera de evaluar el comportamiento de nuestros modelos es a través de un _función de pérdida_"
   ]
  }
 ],
 "metadata": {
  "language_info": {
   "name": "python"
  }
 },
 "nbformat": 4,
 "nbformat_minor": 2
}
