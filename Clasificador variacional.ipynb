{
 "cells": [
  {
   "cell_type": "markdown",
   "metadata": {},
   "source": [
    "## Clasificación variacional"
   ]
  },
  {
   "cell_type": "markdown",
   "metadata": {},
   "source": [
    "### Nociones básicas"
   ]
  },
  {
   "cell_type": "markdown",
   "metadata": {},
   "source": [
    "En aprendizaje automático básico, buscamos producir _modelos_, es decir, funciones toman una entrada de datos en forma de un vector $x\\in\\mathbb{R}^D$ llamado _vector de características_ y pueden devolver una predicción $y\\in\\mathbb{R}$, o estructuras más complejas como vectores, matrices, o tensores, dependiendo del tipo específico de tarea de aprendizaje. Estas funciones \"se entrenan\" ajustando parámetros de la función, usando un _conjunto de entrenamiento_ para aprender a realizar **predicciones que sean efectivas** no solo con los datos de entrenamiento sino también **con nuevos datos no vistos previamente**."
   ]
  },
  {
   "cell_type": "markdown",
   "metadata": {},
   "source": [
    "##### Clasificación binaria"
   ]
  },
  {
   "cell_type": "markdown",
   "metadata": {},
   "source": [
    "En este caso consideramos una tarea de aprendizaje específica llamada _clasificación binaria_ donde nuestros modelos producen etiquetas en un conjunto $\\{a,b\\}$, por ejemplo, $\\{+1,-1\\}$, $\\{0,1\\}$, $\\{verdadero,falso\\}$, etcétera. En otras palabras, consideramos modelos de la forma $$f_{\\theta}: \\mathbb{R}^D \\rightarrow \\{a,b\\}, $$ donde $\\theta$ representa el parámetro a _optimizar_."
   ]
  },
  {
   "cell_type": "markdown",
   "metadata": {},
   "source": [
    "##### Aprendizaje supervisado"
   ]
  },
  {
   "cell_type": "markdown",
   "metadata": {},
   "source": [
    "Además, consideramos el caso de _aprendizaje supervisado_, donde cada elemento del conjunto de entrenamiento está formado por un par $(x_i, y_i)$, donde $x_i \\in \\mathbb{R}^D$ es un vector de características y $y_i$ es la etiqueta correspondiente que indica la clase a la que pertenece el ejemplo."
   ]
  },
  {
   "cell_type": "markdown",
   "metadata": {},
   "source": [
    "Por ejemplo, si tenemos $N$ ejemplos en nuestro conjunto de entrenamiento con correspondientes etiquetas, $(x_1, y_1), \\dots, (x_N, y_N)$. Dados estos datos, buscamos estimar un modelo $f(\\cdot,\\theta)$ parametrizado por $\\theta$ para el cual esperamos encontrar un buen parámetro $\\theta^*$ que ajuste bien los datos con las etiquetas, es decir, $$f(x_n,\\theta^*)\\approx y_n, \\hspace{12pt} \\text{para todo} \\hspace{4pt} i = 1, \\dots, N$$."
   ]
  },
  {
   "cell_type": "markdown",
   "metadata": {},
   "source": [
    "##### Función de pérdida"
   ]
  },
  {
   "cell_type": "markdown",
   "metadata": {},
   "source": [
    "Una manera de evaluar el comportamiento de nuestros modelos es a través de un _función de pérdida_"
   ]
  },
  {
   "cell_type": "markdown",
   "metadata": {},
   "source": [
    "##### Función de costo"
   ]
  },
  {
   "cell_type": "markdown",
   "metadata": {},
   "source": []
  },
  {
   "cell_type": "markdown",
   "metadata": {},
   "source": [
    "##### Optimización: descenso del gradiente"
   ]
  },
  {
   "cell_type": "markdown",
   "metadata": {},
   "source": []
  },
  {
   "cell_type": "markdown",
   "metadata": {},
   "source": [
    "### Caso cuántico"
   ]
  },
  {
   "cell_type": "markdown",
   "metadata": {},
   "source": [
    "<img src=\"images/flux.png\" width=\"650\"/>"
   ]
  },
  {
   "cell_type": "markdown",
   "metadata": {},
   "source": [
    "#### ¿Cómo codificamos nuestros datos en un estado cuántico?"
   ]
  },
  {
   "cell_type": "markdown",
   "metadata": {},
   "source": [
    "No existe una codificación general aplicable para todos los problemas, sino que depende de cada problema específico. Sin embargo, existen algunas propuestas populares:\n"
   ]
  },
  {
   "cell_type": "markdown",
   "metadata": {},
   "source": [
    "##### Codificación en estados de la base computacional"
   ]
  },
  {
   "cell_type": "markdown",
   "metadata": {},
   "source": [
    "Dado un vector de características, por ejemplo $\\mathbf{x}=(x_1,x_2)\\in\\mathbb{R}^2$, podemos codificar los datos $x_1$ y $x_2$ en binario y luego corresponderlos con un estado de $\\{\\ket{0},\\ket{1}\\}^{\\otimes M}$. \n",
    "Digamos, si $$x_1=0.1 \\rightarrow 1010 $$  $$x_2=-0.17 \\rightarrow 0110,$$ entonces podemos codificar $$\\mathbf{x}\\rightarrow \\ket{1010 0110}$$"
   ]
  },
  {
   "cell_type": "markdown",
   "metadata": {},
   "source": [
    "##### Codificación en amplitud"
   ]
  },
  {
   "cell_type": "markdown",
   "metadata": {},
   "source": [
    "Dado un vector de características con $D$ dimensiones, podemos tomar $log_2(D)$ qubits y aplicar compuertas a manera de que las amplitudes de probabilidad correspondan con los datos del vector.\n",
    "\n",
    "Por ejemplo, $\\mathbf{x}=(0.8,0,0.1,0.1)$, inicializamos $2$ qubits $$\\ket{0}\\ket{0}$$ y preparamos el estado del sistema $$\\ket{0}\\ket{0}\\rightarrow \\ket{\\Psi}$$ de manera que $$\\ket{\\Psi} = 0.8\\ket{00}+0\\ket{01}+0.1\\ket{10}+0.1\\ket{11}=\\begin{bmatrix}\n",
    "0.8 \\\\\n",
    "0 \\\\\n",
    "0.1 \\\\\n",
    "0.1\n",
    "\\end{bmatrix}$$"
   ]
  },
  {
   "cell_type": "markdown",
   "metadata": {},
   "source": [
    "##### Codificación en ángulos"
   ]
  },
  {
   "cell_type": "markdown",
   "metadata": {},
   "source": [
    "Dado un vector de características $\\mathbf{x}$ con $D$ dimensiones, podemos tomar $D$ qubits, y para cada entrada $x_i$ aplicarle al $i$-ésimo qubit una rotación en un ángulo que dependa de la característica $x_i$.\n",
    "\n",
    "Por ejemplo, $\\mathbf{x}=(x_1,x_2)$, inicializamos $2$ qubits $$\\ket{0}\\ket{0}$$ y preparamos el estado del sistema $$\\ket{0}\\ket{0}=\\ket{0}\\otimes\\ket{0}\\rightarrow (R_Z (x_1)\\otimes R_Z (x_2))\\ket{0}\\otimes\\ket{0}=R_Z (x_1)\\ket{0}\\otimes R_Z (x_2)\\ket{0}$$"
   ]
  },
  {
   "cell_type": "markdown",
   "metadata": {},
   "source": [
    "Further reading on encoding: https://arxiv.org/pdf/2311.10375"
   ]
  },
  {
   "cell_type": "markdown",
   "metadata": {},
   "source": [
    "#### ¿Cómo aplicamos un modelo una vez codificada la información?"
   ]
  },
  {
   "cell_type": "markdown",
   "metadata": {},
   "source": [
    "Supóngase que se tiene definida una codificación $U(\\mathbf{x})$ y queremos aplicar el modelo $W$ que depende de los parámetros $\\vec{\\theta}=(\\theta_1,\\dots,\\theta_K)$."
   ]
  },
  {
   "cell_type": "markdown",
   "metadata": {},
   "source": [
    "<img src=\"images/encoding1.png\" width=\"400\"/>"
   ]
  },
  {
   "cell_type": "markdown",
   "metadata": {},
   "source": [
    "Así como en el caso de la codificación, la elección del modelo $W$ no tiene un consenso general aplicable a todos los problemas, sino que deben nuevamente considerarse las características específicas del problema, sin embargo una elección común de modelo incluye rotaciones en los parámetros $\\vec{\\theta}$, así como entrelazamiento entre todos los qubits del circuito, lo que expande el espacio de búsqueda. \n",
    "\n",
    "Esta posible expansión del espacio de búsqueda potencialmente podría contener una solución óptima, la cual podría no ser accesible por estados separables (sin entrelazamiento)."
   ]
  },
  {
   "cell_type": "markdown",
   "metadata": {},
   "source": [
    "Por ejemplo, considere el siguiente modelo.\n",
    "\n",
    "<img src=\"images/model1.png\" width=\"500\"/>"
   ]
  },
  {
   "cell_type": "markdown",
   "metadata": {},
   "source": [
    "#### ¿Cómo obtenemos resultados de nuestro modelo?"
   ]
  },
  {
   "cell_type": "markdown",
   "metadata": {},
   "source": [
    "Nuevamente la obtención de un resultado depende del problema específico. Una propuesta incluye el obtener el valor esperado del estado del sistema en la base computacional $(Z)$, pues esto nos permite obtener un promedio de los resultados."
   ]
  },
  {
   "cell_type": "markdown",
   "metadata": {},
   "source": [
    "<img src=\"images/meas1.png\" width=\"500\"/>"
   ]
  },
  {
   "cell_type": "markdown",
   "metadata": {},
   "source": [
    "Observe que podemos hacer la medición sobre un solo qubit, pues si consideramos un esquema más complejo de medición, este puede ser implementado en el circuito $W(\\vec{\\theta})$."
   ]
  },
  {
   "cell_type": "markdown",
   "metadata": {},
   "source": [
    "#### ¿Cómo optimizamos los parámetros?"
   ]
  },
  {
   "cell_type": "markdown",
   "metadata": {},
   "source": [
    "### Ejemplo"
   ]
  },
  {
   "cell_type": "code",
   "execution_count": null,
   "metadata": {},
   "outputs": [],
   "source": [
    "# pip install pennylane\n",
    "import pennylane as qml\n",
    "from pennylane import numpy as np"
   ]
  },
  {
   "cell_type": "code",
   "execution_count": null,
   "metadata": {},
   "outputs": [],
   "source": [
    "# Inicializamos el simulador 'default.qubit' con dos qubits\n",
    "\n",
    "dev = qml.device('default.qubit', wires=2)"
   ]
  },
  {
   "cell_type": "code",
   "execution_count": null,
   "metadata": {},
   "outputs": [
    {
     "name": "stdout",
     "output_type": "stream",
     "text": [
      "0.9382066733157299\n"
     ]
    }
   ],
   "source": [
    "# Definimos el circuito\n",
    "\n",
    "@qml.qnode(dev) # Este decorador le dice al programa que la siguiente función es un nodo del dispositivo 'dev'\n",
    "def circuit(params, x):\n",
    "    # Codificación de datos\n",
    "    qml.RX(x[0], wires=0)\n",
    "    qml.RY(x[1], wires=1)\n",
    "\n",
    "    # Modelo con rotaciones RZ(param) RY(param) RZ(param)\n",
    "    qml.Rot(params[0], params[1], params[2], wires=0)\n",
    "    qml.Rot(params[3], params[4], params[5], wires=1)\n",
    "    qml.CNOT(wires=[0, 1])\n",
    "\n",
    "    return qml.expval(qml.PauliZ(0))\n",
    "\n",
    "# Ejemplo\n",
    "params = np.random.random(6)\n",
    "x = np.array([0.1, -0.2], requires_grad=False)\n",
    "print(circuit(params, x))"
   ]
  },
  {
   "cell_type": "markdown",
   "metadata": {},
   "source": [
    "Referencias: Qiskit Global Summer School 2021 Lecture series"
   ]
  }
 ],
 "metadata": {
  "kernelspec": {
   "display_name": ".venv",
   "language": "python",
   "name": "python3"
  },
  "language_info": {
   "codemirror_mode": {
    "name": "ipython",
    "version": 3
   },
   "file_extension": ".py",
   "mimetype": "text/x-python",
   "name": "python",
   "nbconvert_exporter": "python",
   "pygments_lexer": "ipython3",
   "version": "3.10.12"
  }
 },
 "nbformat": 4,
 "nbformat_minor": 2
}
